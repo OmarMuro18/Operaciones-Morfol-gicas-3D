{
 "cells": [
  {
   "cell_type": "code",
   "execution_count": 1,
   "id": "593bbcac",
   "metadata": {},
   "outputs": [],
   "source": [
    "from re import X\n",
    "from tkinter import filedialog, Tk, Label, Button, messagebox, Toplevel, Entry\n",
    "import tkinter\n",
    "import os\n",
    "import numpy as np\n",
    "import BinvoxR as bin"
   ]
  },
  {
   "cell_type": "code",
   "execution_count": 5,
   "id": "916035f0",
   "metadata": {},
   "outputs": [],
   "source": [
    "def erosion(imgArit, ariOb):\n",
    "    w = ariOb.shape[0] // 2\n",
    "    imgBin = np.pad(array=imgArit, pad_width=w, mode='constant', constant_values=False)\n",
    "\n",
    "    imgEro = np.zeros((imgArit.shape[0],imgArit.shape[1],imgArit.shape[2]), dtype=np.uint8)\n",
    "\n",
    "    for x in range(imgArit.shape[0]):\n",
    "        for y in range(imgArit.shape[1]):\n",
    "            for z in range(imgArit.shape[2]):\n",
    "                det = imgBin[x:(x + ariOb.shape[0]), y:(y + ariOb.shape[0]), z:(z + ariOb.shape[0])]\n",
    "                if ariOb.all() == det.all():\n",
    "                    imgEro[x][y][z] = 1\n",
    "\n",
    "    return imgEro"
   ]
  },
  {
   "cell_type": "code",
   "execution_count": 6,
   "id": "5c2d2361",
   "metadata": {},
   "outputs": [],
   "source": [
    "def dilatacion(imgArit, ariOb):\n",
    "    w = ariOb.shape[0] // 2\n",
    "    imgBin = np.pad(array=imgArit, pad_width=w, mode='constant', constant_values=255)\n",
    "    imgDil = np.zeros((imgArit.shape[0],imgArit.shape[1],imgArit.shape[2]), dtype=np.uint8)\n",
    "\n",
    "    for x in range(imgArit.shape[0]):\n",
    "        for y in range(imgArit.shape[1]):\n",
    "            for z in range(imgArit.shape[2]):\n",
    "                det = imgBin[x:(x + ariOb.shape[0]), y:(y + ariOb.shape[0]), z:(z + ariOb.shape[0])]\n",
    "                if ariOb.any() == det.any():\n",
    "                    imgDil[x][y][z] = 1\n",
    "\n",
    "    imgDil = imgDil.reshape(imgArit.shape)\n",
    "\n",
    "    return imgDil"
   ]
  },
  {
   "cell_type": "code",
   "execution_count": 9,
   "id": "57f426ea",
   "metadata": {},
   "outputs": [
    {
     "name": "stdout",
     "output_type": "stream",
     "text": [
      "Eligue un numero del 0 al 2 para la selección de la imagen 3D: 0\n",
      "Indica la cantidad de veces a realizar la operacion morfológica seleccionada: 0\n",
      "Operaciones morfológicas\n",
      "1. Erosion\n",
      "2. Dilatación\n",
      "Selecciona el tipo de operación que deseas:2\n",
      "Sea a creado el archivo txt con la operacion morfológica elegidad, puede revisarlo en donde se encuentra el ejecutable\n"
     ]
    }
   ],
   "source": [
    "imgArc = ['3D\\\\00.binvox', '3D\\\\01.binvox', '3D\\\\02.binvox']\n",
    "numSelec = int(input(\"Eligue un numero del 0 al 2 para la selección de la imagen 3D: \"))\n",
    "with open(imgArc[numSelec], 'rb') as fp:\n",
    "    binvox = bin.read(fp, False)\n",
    "ariOb = np.ones([3, 3, 3],dtype=np.uint8)\n",
    "escr=\"\"\n",
    "\n",
    "cantSelec = int(input(\"Indica la cantidad de veces a realizar la operacion morfológica seleccionada: \"))\n",
    "tipoOM = int(input(\"Operaciones morfológicas\\n1. Erosion\\n2. Dilatación\\nSelecciona el tipo de operación que deseas:\"))\n",
    "\n",
    "if (tipoOM == 1):\n",
    "    arch = \"Erosion Imagen \"\n",
    "    for x in range(int(cantSelec)):\n",
    "        binvox.data = erosion(binvox.data, ariOb)\n",
    "elif (tipoOM == 2):\n",
    "    arch = \"Dilatacion Imagen \"\n",
    "    for x in range(int(cantSelec)):\n",
    "        binvox.data = dilatacion(binvox.data, ariOb)\n",
    "\n",
    "with open( arch + str(numSelec) + '.txt', 'w') as outfile:\n",
    "    for det in binvox.data:\n",
    "        np.savetxt(outfile, det, fmt ='%.0f', delimiter='') \n",
    "print(\"Sea a creado el archivo txt con la operacion morfológica elegidad, puede revisarlo en donde se encuentra el ejecutable\")"
   ]
  },
  {
   "cell_type": "code",
   "execution_count": null,
   "id": "062dfffa",
   "metadata": {},
   "outputs": [],
   "source": []
  }
 ],
 "metadata": {
  "kernelspec": {
   "display_name": "Python 3 (ipykernel)",
   "language": "python",
   "name": "python3"
  },
  "language_info": {
   "codemirror_mode": {
    "name": "ipython",
    "version": 3
   },
   "file_extension": ".py",
   "mimetype": "text/x-python",
   "name": "python",
   "nbconvert_exporter": "python",
   "pygments_lexer": "ipython3",
   "version": "3.9.7"
  }
 },
 "nbformat": 4,
 "nbformat_minor": 5
}
